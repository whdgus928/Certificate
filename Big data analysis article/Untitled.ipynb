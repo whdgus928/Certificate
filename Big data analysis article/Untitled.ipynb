{
 "cells": [
  {
   "cell_type": "markdown",
   "id": "7c13110e",
   "metadata": {},
   "source": [
    "## 로지스틱 회귀모델"
   ]
  },
  {
   "cell_type": "code",
   "execution_count": null,
   "id": "510e3dae",
   "metadata": {},
   "outputs": [],
   "source": [
    "# Jupyternotebook에서 경고 메시지를 무시하고 싶을 때:\n",
    "import warnings\n",
    "warnings.filterwarnings('ignore')\n",
    "\n",
    "import pandas as pd\n",
    "data=pd.read_csv('')\n",
    "X=data[data.columns[1:10]]\n",
    "y=data[['Class']]\n"
   ]
  },
  {
   "cell_type": "code",
   "execution_count": null,
   "id": "8a389ac8",
   "metadata": {},
   "outputs": [],
   "source": [
    "# train, test 데이터셋을 분리\n",
    "from sklearn.model_selection import train_test_split\n",
    "X_train, X_test, y_train, y_test=train_test_split(X,y, stratify=y,random_state=42) # stratify: target 값(target의 y 비율을 유지 한 채로 데이터 셋을 split), random_state: 난수값\n"
   ]
  },
  {
   "cell_type": "code",
   "execution_count": null,
   "id": "178385de",
   "metadata": {},
   "outputs": [],
   "source": [
    "#MinMaxScaler: 최소 0, 최대 1 정규화\n",
    "from sklearn.preprocessing import MinMaxScaler\n",
    "scaler=MinMaxScaler()\n",
    "X_scaled_train=scaler.fit_transform(X_train)\n",
    "X_scaled_test=scaler.fit_transform(X_test)"
   ]
  },
  {
   "cell_type": "code",
   "execution_count": null,
   "id": "b2c38454",
   "metadata": {},
   "outputs": [],
   "source": [
    "#기본모델\n",
    "from sklearn.linear_model import LogisticRegression\n",
    "model=LogisticRegression()\n",
    "model.fit(X_scaled_train,y_train)\n",
    "pred_train=model.predict(X_scaled_train)\n",
    "model.score(X_scaled_train,y_train)"
   ]
  },
  {
   "cell_type": "code",
   "execution_count": null,
   "id": "607d2644",
   "metadata": {},
   "outputs": [],
   "source": [
    "# 훈련 데이터의 정분류와 오분류를 오차행렬료 표현\n",
    "from sklearn.metrics import confusion_matrix\n",
    "confusion_train=confusion_matrix(y_train,pred_train)\n",
    "confusion_train"
   ]
  },
  {
   "cell_type": "code",
   "execution_count": null,
   "id": "084d5536",
   "metadata": {},
   "outputs": [],
   "source": [
    "from sklearn.metrics import classification_report\n",
    "cfreport_train=classification_report(y_train,pred_train)\n",
    "cfreport_train"
   ]
  },
  {
   "cell_type": "code",
   "execution_count": null,
   "id": "b91dc051",
   "metadata": {},
   "outputs": [],
   "source": [
    "pred_test=model.predict(X_scaled_test)\n",
    "model.score(X_scaled_test,y_test)"
   ]
  },
  {
   "cell_type": "code",
   "execution_count": null,
   "id": "1cd93994",
   "metadata": {},
   "outputs": [],
   "source": [
    "confusion_test=confusion_matrix(y_test,pred_test)\n",
    "confusion_test"
   ]
  },
  {
   "cell_type": "code",
   "execution_count": null,
   "id": "8fe5735f",
   "metadata": {},
   "outputs": [],
   "source": [
    "cfreport_test=classification_report(y_test,pred_test)\n",
    "cfreport_test"
   ]
  },
  {
   "cell_type": "code",
   "execution_count": null,
   "id": "d2f95d11",
   "metadata": {},
   "outputs": [],
   "source": [
    "#Grid search : 하이퍼 파라미터 c 값을 조정\n",
    "param_grid={'C':[0.001,0.01,0.1,1,1,100]}\n",
    "from sklearn.model_selection import GridSearchCV\n",
    "grid_search=GridSearchCV(LogisticRegression(),param_grid,cv=5)\n",
    "grid_search.fit(X_scaled_train,y_train)"
   ]
  },
  {
   "cell_type": "code",
   "execution_count": null,
   "id": "bc80271e",
   "metadata": {},
   "outputs": [],
   "source": [
    "# Random search: 분석자가 하이퍼 파라미터 범위 지정, 무작위로 뽑아 수행\n",
    "\n"
   ]
  }
 ],
 "metadata": {
  "kernelspec": {
   "display_name": "Python 3 (ipykernel)",
   "language": "python",
   "name": "python3"
  },
  "language_info": {
   "codemirror_mode": {
    "name": "ipython",
    "version": 3
   },
   "file_extension": ".py",
   "mimetype": "text/x-python",
   "name": "python",
   "nbconvert_exporter": "python",
   "pygments_lexer": "ipython3",
   "version": "3.9.13"
  }
 },
 "nbformat": 4,
 "nbformat_minor": 5
}
